{
 "cells": [
  {
   "cell_type": "markdown",
   "metadata": {},
   "source": [
    "**Library Imports**"
   ]
  },
  {
   "cell_type": "code",
   "execution_count": 1,
   "metadata": {},
   "outputs": [],
   "source": [
    "import sys\n",
    "import pandas as pd\n",
    "import numpy as np\n",
    "import datetime\n",
    "import os\n",
    "import tweepy"
   ]
  },
  {
   "cell_type": "markdown",
   "metadata": {},
   "source": [
    "**Event Dictionary**"
   ]
  },
  {
   "cell_type": "code",
   "execution_count": null,
   "metadata": {},
   "outputs": [],
   "source": [
    "major_events = {'NE Winter Storm' : {\n",
    "                                'city'       : 'Boston',\n",
    "                                'lat'        : 42.358429,\n",
    "                                'long'       : -71.0597687,\n",
    "                                'radius'     : '10mi',\n",
    "                                'queries'    : ['power','outage','blackout']\n",
    "                                'start_year' : 2019,\n",
    "                                'start_month': 10,\n",
    "                                'start_day'  : 16, }\n",
    "                'NYC Blackout'    : {\n",
    "                                'city'       : 'New York City',\n",
    "                                'lat'        : 40.730610,\n",
    "                                'long'       : -73.935242,\n",
    "                                'radius'     : '15mi',\n",
    "                                'queries'    : ['power','outage','blackout']\n",
    "                                'start_year' : 2019,\n",
    "                                'start_month': 7,\n",
    "                                'start_day'  : 13, }\n",
    "                \n",
    "                }"
   ]
  }
 ],
 "metadata": {
  "kernelspec": {
   "display_name": "Python 3",
   "language": "python",
   "name": "python3"
  },
  "language_info": {
   "codemirror_mode": {
    "name": "ipython",
    "version": 3
   },
   "file_extension": ".py",
   "mimetype": "text/x-python",
   "name": "python",
   "nbconvert_exporter": "python",
   "pygments_lexer": "ipython3",
   "version": "3.7.6"
  }
 },
 "nbformat": 4,
 "nbformat_minor": 4
}
