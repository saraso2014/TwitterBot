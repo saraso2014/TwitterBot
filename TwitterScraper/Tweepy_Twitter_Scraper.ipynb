{
 "cells": [
  {
   "cell_type": "markdown",
   "metadata": {
    "colab_type": "text",
    "id": "xh92xbMkLy28"
   },
   "source": [
    "# Scraper for Twitter using Tweepy\n",
    "\n",
    "Package Github: https://github.com/tweepy/tweepy\n",
    "\n",
    "Package Documentation: https://tweepy.readthedocs.io/en/latest/\n",
    "\n",
    "### Notebook Author: Martin Beck"
   ]
  },
  {
   "cell_type": "code",
   "execution_count": 1,
   "metadata": {
    "colab": {
     "base_uri": "https://localhost:8080/",
     "height": 213
    },
    "colab_type": "code",
    "id": "90OU2SDJL2Q9",
    "outputId": "89d239d4-dc97-43c7-fff0-cbbe793bf094"
   },
   "outputs": [],
   "source": [
    "# %load keys.py\n",
    "{\n",
    " \"cells\": [\n",
    "  {\n",
    "   \"cell_type\": \"code\",\n",
    "   \"execution_count\": 1,\n",
    "   \"metadata\": {\n",
    "    \"colab\": {},\n",
    "    \"colab_type\": \"code\",\n",
    "    \"id\": \"4NcOQy9XM5hR\"\n",
    "   },\n",
    "   \"outputs\": [],\n",
    "   \"source\": [\n",
    "    \"# Credentials\\n\",\n",
    "    \"def creds():\\n\",\n",
    "    \"    return (\\\"m8rPuAqDoxlp21cqf42OaCVNh\\\", \\\"xnXprDHDJXgflYHENr1IrESBxWlZO2nFbaCCKiNuMmZMGltZcK\\\", \\\"208399633-4hjnFJvf2NOh0naUbwY3pm6TPpFX0guyH7klZKOH\\\", \\\"rQc560zkbo8CdmzUa6g75xD4XwTnsSOHTiNRzOgLMsVjs\\\")\\n\"\n",
    "   ]\n",
    "  }\n",
    " ],\n",
    " \"metadata\": {\n",
    "  \"kernelspec\": {\n",
    "   \"display_name\": \"Python 3\",\n",
    "   \"language\": \"python\",\n",
    "   \"name\": \"python3\"\n",
    "  },\n",
    "  \"language_info\": {\n",
    "   \"codemirror_mode\": {\n",
    "    \"name\": \"ipython\",\n",
    "    \"version\": 3\n",
    "   },\n",
    "   \"file_extension\": \".py\",\n",
    "   \"mimetype\": \"text/x-python\",\n",
    "   \"name\": \"python\",\n",
    "   \"nbconvert_exporter\": \"python\",\n",
    "   \"pygments_lexer\": \"ipython3\",\n",
    "   \"version\": \"3.7.6\"\n",
    "  }\n",
    " },\n",
    " \"nbformat\": 4,\n",
    " \"nbformat_minor\": 4\n",
    "}\n"
   ]
  },
  {
   "cell_type": "markdown",
   "metadata": {
    "colab_type": "text",
    "id": "5q3dtxauP0KR"
   },
   "source": [
    "## Credentials and Authorization"
   ]
  },
  {
   "cell_type": "code",
   "execution_count": 2,
   "metadata": {
    "colab": {},
    "colab_type": "code",
    "id": "4NcOQy9XM5hR"
   },
   "outputs": [],
   "source": [
    "# Credentials\n",
    "consumer_key = \"m8rPuAqDoxlp21cqf42OaCVNh\"\n",
    "consumer_secret = \"xnXprDHDJXgflYHENr1IrESBxWlZO2nFbaCCKiNuMmZMGltZcK\"\n",
    "access_token = \"208399633-4hjnFJvf2NOh0naUbwY3pm6TPpFX0guyH7klZKOH\"\n",
    "access_token_secret = \"rQc560zkbo8CdmzUa6g75xD4XwTnsSOHTiNRzOgLMsVjs\"\n",
    "\n",
    "auth = tweepy.OAuthHandler(consumer_key, consumer_secret)\n",
    "auth.set_access_token(access_token, access_token_secret)\n",
    "api = tweepy.API(auth,wait_on_rate_limit=True)"
   ]
  },
  {
   "cell_type": "markdown",
   "metadata": {
    "colab_type": "text",
    "id": "LvBbNQXgM3QI"
   },
   "source": [
    "## Query by Username\n",
    "Creation of queries using Tweepy API\n",
    "\n",
    "Function is focused on completing the query then providing a CSV file of that query using pandas"
   ]
  },
  {
   "cell_type": "code",
   "execution_count": 3,
   "metadata": {
    "colab": {},
    "colab_type": "code",
    "id": "fguMqU2ifc5h"
   },
   "outputs": [],
   "source": [
    "tweets = []\n",
    "\n",
    "def username_tweets_to_csv(username,count):\n",
    "    try: \n",
    "    # Pulling individual tweets from query\n",
    "        for tweet in api.user_timeline(id=username, count=count):\n",
    "\n",
    "            # Adding to list that contains all tweets\n",
    "            tweets.append((tweet.created_at,tweet.id,tweet.text, tweet.user.location))\n",
    "\n",
    "            # Creation of dataframe from tweets list\n",
    "            tweetsdf = pd.DataFrame(tweets,columns=['Datetime', 'Tweet Id', 'Text', 'Location'])\n",
    "\n",
    "            # Converting dataframe to CSV\n",
    "            tweetsdf.to_csv('{}-tweets.csv'.format(username)) \n",
    "\n",
    "    except BaseException as e:\n",
    "          print('failed on_status,',str(e))\n",
    "          time.sleep(3)"
   ]
  },
  {
   "cell_type": "markdown",
   "metadata": {
    "colab_type": "text",
    "id": "jFe9EonmM6u9"
   },
   "source": [
    "## Query by Text Search\n",
    "Function is focused on completing the query then providing a CSV file of that query using pandas"
   ]
  },
  {
   "cell_type": "code",
   "execution_count": 4,
   "metadata": {
    "colab": {},
    "colab_type": "code",
    "id": "1hOeCFq6M83k"
   },
   "outputs": [],
   "source": [
    "tweets = []\n",
    "\n",
    "def text_query_to_csv(text_query, count):\n",
    "    try:\n",
    "    # Pulling individual tweets from query\n",
    "        for tweet in api.search(q=text_query, count=count):\n",
    "\n",
    "          # Adding to list that contains all tweets\n",
    "          tweets.append((tweet.created_at,tweet.id,tweet.text,tweet.coordinates,tweet.user.location, tweet.user.geo_enabled))\n",
    "\n",
    "          # Creation of dataframe from tweets list\n",
    "          tweetsdf = pd.DataFrame(tweets,columns=['Datetime', 'Tweet Id', 'Text','Coordinates','Location','GeoTagged'])\n",
    "\n",
    "          # Converting dataframe to CSV\n",
    "          tweetsdf.to_csv('{}-tweets.csv'.format(text_query)) \n",
    "\n",
    "    except BaseException as e:\n",
    "        print('failed on_status,',str(e))\n",
    "        time.sleep(3)"
   ]
  },
  {
   "cell_type": "code",
   "execution_count": 5,
   "metadata": {
    "colab": {},
    "colab_type": "code",
    "id": "1hOeCFq6M83k"
   },
   "outputs": [],
   "source": [
    "# play groundc cell\n",
    "tweets = []\n",
    "\n",
    "def search_query(text_query, count):\n",
    "    for tweet in api.search(q=text_query, count=count):\n",
    "        tweets.append((tweet.created_at,tweet.id,tweet.text,tweet.coordinates,tweet.user.location, tweet.user.geo_enabled))\n",
    "        tweetsdf = pd.DataFrame(tweets,columns=['Datetime', 'Tweet Id', 'Text','Coordinates','Location','GeoTagged'])\n",
    "        tweetsdf.to_csv('{}-tweets.csv'.format(text_query)) "
   ]
  },
  {
   "cell_type": "code",
   "execution_count": 27,
   "metadata": {},
   "outputs": [],
   "source": [
    "test_tweets = []\n",
    "query = 'power'\n",
    "for tweet in api.search(q=query,geocode='38.8977,77.036,10mi',count=300):\n",
    "    test_tweets.append((tweet.created_at,tweet.text,tweet.coordinates, tweet.user.location,tweet.user.geo_enabled))\n",
    "    df_test_tweets = pd.DataFrame(test_tweets, columns=['Datetime', 'Text','Coordinates','Location','GeoTagged'])"
   ]
  },
  {
   "cell_type": "code",
   "execution_count": 28,
   "metadata": {},
   "outputs": [
    {
     "data": {
      "text/html": [
       "<div>\n",
       "<style scoped>\n",
       "    .dataframe tbody tr th:only-of-type {\n",
       "        vertical-align: middle;\n",
       "    }\n",
       "\n",
       "    .dataframe tbody tr th {\n",
       "        vertical-align: top;\n",
       "    }\n",
       "\n",
       "    .dataframe thead th {\n",
       "        text-align: right;\n",
       "    }\n",
       "</style>\n",
       "<table border=\"1\" class=\"dataframe\">\n",
       "  <thead>\n",
       "    <tr style=\"text-align: right;\">\n",
       "      <th></th>\n",
       "      <th>Datetime</th>\n",
       "      <th>Text</th>\n",
       "      <th>Coordinates</th>\n",
       "      <th>Location</th>\n",
       "      <th>GeoTagged</th>\n",
       "    </tr>\n",
       "  </thead>\n",
       "  <tbody>\n",
       "    <tr>\n",
       "      <th>0</th>\n",
       "      <td>2020-05-09 19:45:27</td>\n",
       "      <td>RT @Strandjunker: @realDonaldTrump @SecretaryS...</td>\n",
       "      <td>None</td>\n",
       "      <td>Midstream, South Africa</td>\n",
       "      <td>True</td>\n",
       "    </tr>\n",
       "    <tr>\n",
       "      <th>1</th>\n",
       "      <td>2020-05-09 19:45:22</td>\n",
       "      <td>\"What we're fighting against is these long-ter...</td>\n",
       "      <td>None</td>\n",
       "      <td>Oakland, California</td>\n",
       "      <td>True</td>\n",
       "    </tr>\n",
       "    <tr>\n",
       "      <th>2</th>\n",
       "      <td>2020-05-09 19:45:18</td>\n",
       "      <td>RT @Strandjunker: @realDonaldTrump @SecretaryS...</td>\n",
       "      <td>None</td>\n",
       "      <td></td>\n",
       "      <td>False</td>\n",
       "    </tr>\n",
       "    <tr>\n",
       "      <th>3</th>\n",
       "      <td>2020-05-09 19:45:17</td>\n",
       "      <td>Wish he could be back in office. Trump wanted ...</td>\n",
       "      <td>None</td>\n",
       "      <td>Oakland CA,</td>\n",
       "      <td>True</td>\n",
       "    </tr>\n",
       "    <tr>\n",
       "      <th>4</th>\n",
       "      <td>2020-05-09 19:45:17</td>\n",
       "      <td>RT @jilevin: In leaked call, Obama describes T...</td>\n",
       "      <td>None</td>\n",
       "      <td>En Afrique</td>\n",
       "      <td>False</td>\n",
       "    </tr>\n",
       "    <tr>\n",
       "      <th>...</th>\n",
       "      <td>...</td>\n",
       "      <td>...</td>\n",
       "      <td>...</td>\n",
       "      <td>...</td>\n",
       "      <td>...</td>\n",
       "    </tr>\n",
       "    <tr>\n",
       "      <th>95</th>\n",
       "      <td>2020-05-09 19:17:11</td>\n",
       "      <td>RT @Strandjunker: @realDonaldTrump @SecretaryS...</td>\n",
       "      <td>None</td>\n",
       "      <td>Maryland, USA</td>\n",
       "      <td>False</td>\n",
       "    </tr>\n",
       "    <tr>\n",
       "      <th>96</th>\n",
       "      <td>2020-05-09 19:16:45</td>\n",
       "      <td>RT @Strandjunker: @realDonaldTrump @SecretaryS...</td>\n",
       "      <td>None</td>\n",
       "      <td>Tampa, FL</td>\n",
       "      <td>False</td>\n",
       "    </tr>\n",
       "    <tr>\n",
       "      <th>97</th>\n",
       "      <td>2020-05-09 19:16:27</td>\n",
       "      <td>RT @Strandjunker: @realDonaldTrump @SecretaryS...</td>\n",
       "      <td>None</td>\n",
       "      <td>Your Neighborhood Taco Truck</td>\n",
       "      <td>True</td>\n",
       "    </tr>\n",
       "    <tr>\n",
       "      <th>98</th>\n",
       "      <td>2020-05-09 19:15:21</td>\n",
       "      <td>RT @Strandjunker: @realDonaldTrump @SecretaryS...</td>\n",
       "      <td>None</td>\n",
       "      <td></td>\n",
       "      <td>True</td>\n",
       "    </tr>\n",
       "    <tr>\n",
       "      <th>99</th>\n",
       "      <td>2020-05-09 19:14:53</td>\n",
       "      <td>RT @Strandjunker: @realDonaldTrump @SecretaryS...</td>\n",
       "      <td>None</td>\n",
       "      <td>Takilma. Poor sad Planet Earth</td>\n",
       "      <td>False</td>\n",
       "    </tr>\n",
       "  </tbody>\n",
       "</table>\n",
       "<p>100 rows × 5 columns</p>\n",
       "</div>"
      ],
      "text/plain": [
       "              Datetime                                               Text  \\\n",
       "0  2020-05-09 19:45:27  RT @Strandjunker: @realDonaldTrump @SecretaryS...   \n",
       "1  2020-05-09 19:45:22  \"What we're fighting against is these long-ter...   \n",
       "2  2020-05-09 19:45:18  RT @Strandjunker: @realDonaldTrump @SecretaryS...   \n",
       "3  2020-05-09 19:45:17  Wish he could be back in office. Trump wanted ...   \n",
       "4  2020-05-09 19:45:17  RT @jilevin: In leaked call, Obama describes T...   \n",
       "..                 ...                                                ...   \n",
       "95 2020-05-09 19:17:11  RT @Strandjunker: @realDonaldTrump @SecretaryS...   \n",
       "96 2020-05-09 19:16:45  RT @Strandjunker: @realDonaldTrump @SecretaryS...   \n",
       "97 2020-05-09 19:16:27  RT @Strandjunker: @realDonaldTrump @SecretaryS...   \n",
       "98 2020-05-09 19:15:21  RT @Strandjunker: @realDonaldTrump @SecretaryS...   \n",
       "99 2020-05-09 19:14:53  RT @Strandjunker: @realDonaldTrump @SecretaryS...   \n",
       "\n",
       "   Coordinates                        Location  GeoTagged  \n",
       "0         None         Midstream, South Africa       True  \n",
       "1         None             Oakland, California       True  \n",
       "2         None                                      False  \n",
       "3         None                     Oakland CA,       True  \n",
       "4         None                      En Afrique      False  \n",
       "..         ...                             ...        ...  \n",
       "95        None                   Maryland, USA      False  \n",
       "96        None                       Tampa, FL      False  \n",
       "97        None    Your Neighborhood Taco Truck       True  \n",
       "98        None                                       True  \n",
       "99        None  Takilma. Poor sad Planet Earth      False  \n",
       "\n",
       "[100 rows x 5 columns]"
      ]
     },
     "execution_count": 28,
     "metadata": {},
     "output_type": "execute_result"
    }
   ],
   "source": [
    "df_test_tweets"
   ]
  },
  {
   "cell_type": "markdown",
   "metadata": {
    "colab_type": "text",
    "id": "wJcKa7Wrk_e2"
   },
   "source": [
    "## Query Function Calls\n",
    "Putting it all together and using functions created."
   ]
  },
  {
   "cell_type": "code",
   "execution_count": 15,
   "metadata": {
    "colab": {},
    "colab_type": "code",
    "id": "dgK3Am48leWF"
   },
   "outputs": [
    {
     "name": "stdout",
     "output_type": "stream",
     "text": [
      "failed on_status, 'NoneType' object is not subscriptable\n"
     ]
    }
   ],
   "source": [
    "# Input search query to scrape tweets and name csv file\n",
    "# Max recent tweets pulls x amount of most recent tweets from that user\n",
    "text_query = 'poweroutage'\n",
    "count = 10_000\n",
    "# Calling function to query X amount of relevant tweets and create a CSV file\n",
    "df = text_query_to_csv(text_query, count)"
   ]
  }
 ],
 "metadata": {
  "colab": {
   "collapsed_sections": [],
   "name": "Tweepy Twitter Scraper",
   "provenance": []
  },
  "kernelspec": {
   "display_name": "Python 3",
   "language": "python",
   "name": "python3"
  },
  "language_info": {
   "codemirror_mode": {
    "name": "ipython",
    "version": 3
   },
   "file_extension": ".py",
   "mimetype": "text/x-python",
   "name": "python",
   "nbconvert_exporter": "python",
   "pygments_lexer": "ipython3",
   "version": "3.7.6"
  }
 },
 "nbformat": 4,
 "nbformat_minor": 4
}
