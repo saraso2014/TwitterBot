{
 "cells": [
  {
   "cell_type": "code",
   "execution_count": 10,
   "metadata": {},
   "outputs": [],
   "source": [
    "import pandas as pd"
   ]
  },
  {
   "cell_type": "code",
   "execution_count": 11,
   "metadata": {},
   "outputs": [],
   "source": [
    "df = pd.read_csv('poweroutage-tweets.csv')"
   ]
  },
  {
   "cell_type": "code",
   "execution_count": 12,
   "metadata": {},
   "outputs": [
    {
     "data": {
      "text/html": [
       "<div>\n",
       "<style scoped>\n",
       "    .dataframe tbody tr th:only-of-type {\n",
       "        vertical-align: middle;\n",
       "    }\n",
       "\n",
       "    .dataframe tbody tr th {\n",
       "        vertical-align: top;\n",
       "    }\n",
       "\n",
       "    .dataframe thead th {\n",
       "        text-align: right;\n",
       "    }\n",
       "</style>\n",
       "<table border=\"1\" class=\"dataframe\">\n",
       "  <thead>\n",
       "    <tr style=\"text-align: right;\">\n",
       "      <th></th>\n",
       "      <th>Unnamed: 0</th>\n",
       "      <th>Datetime</th>\n",
       "      <th>Tweet Id</th>\n",
       "      <th>Text</th>\n",
       "      <th>Coordinates</th>\n",
       "      <th>Location</th>\n",
       "      <th>GeoTagged</th>\n",
       "    </tr>\n",
       "  </thead>\n",
       "  <tbody>\n",
       "    <tr>\n",
       "      <th>0</th>\n",
       "      <td>0</td>\n",
       "      <td>2020-05-08 00:57:56</td>\n",
       "      <td>1258561739852877824</td>\n",
       "      <td>Reported power outage in several barangays of ...</td>\n",
       "      <td>NaN</td>\n",
       "      <td>Philippines</td>\n",
       "      <td>True</td>\n",
       "    </tr>\n",
       "    <tr>\n",
       "      <th>1</th>\n",
       "      <td>1</td>\n",
       "      <td>2020-05-08 00:44:51</td>\n",
       "      <td>1258558446888194048</td>\n",
       "      <td>Philips Hue hættir mjög fljótt að vera töff la...</td>\n",
       "      <td>NaN</td>\n",
       "      <td>NaN</td>\n",
       "      <td>True</td>\n",
       "    </tr>\n",
       "    <tr>\n",
       "      <th>2</th>\n",
       "      <td>2</td>\n",
       "      <td>2020-05-07 23:57:01</td>\n",
       "      <td>1258546411940921344</td>\n",
       "      <td>Well there's nothing quite like sitting on you...</td>\n",
       "      <td>NaN</td>\n",
       "      <td>NaN</td>\n",
       "      <td>False</td>\n",
       "    </tr>\n",
       "    <tr>\n",
       "      <th>3</th>\n",
       "      <td>3</td>\n",
       "      <td>2020-05-07 23:43:25</td>\n",
       "      <td>1258542987203670016</td>\n",
       "      <td>RT @redcrosscanada: ⚠️Can you live without pow...</td>\n",
       "      <td>NaN</td>\n",
       "      <td>Prince Albert Saskatchewan</td>\n",
       "      <td>False</td>\n",
       "    </tr>\n",
       "    <tr>\n",
       "      <th>4</th>\n",
       "      <td>4</td>\n",
       "      <td>2020-05-07 23:41:36</td>\n",
       "      <td>1258542530880090113</td>\n",
       "      <td>#poweroutage #boo</td>\n",
       "      <td>NaN</td>\n",
       "      <td>Fort Morgan, CO</td>\n",
       "      <td>False</td>\n",
       "    </tr>\n",
       "  </tbody>\n",
       "</table>\n",
       "</div>"
      ],
      "text/plain": [
       "   Unnamed: 0             Datetime             Tweet Id  \\\n",
       "0           0  2020-05-08 00:57:56  1258561739852877824   \n",
       "1           1  2020-05-08 00:44:51  1258558446888194048   \n",
       "2           2  2020-05-07 23:57:01  1258546411940921344   \n",
       "3           3  2020-05-07 23:43:25  1258542987203670016   \n",
       "4           4  2020-05-07 23:41:36  1258542530880090113   \n",
       "\n",
       "                                                Text  Coordinates  \\\n",
       "0  Reported power outage in several barangays of ...          NaN   \n",
       "1  Philips Hue hættir mjög fljótt að vera töff la...          NaN   \n",
       "2  Well there's nothing quite like sitting on you...          NaN   \n",
       "3  RT @redcrosscanada: ⚠️Can you live without pow...          NaN   \n",
       "4                                  #poweroutage #boo          NaN   \n",
       "\n",
       "                     Location  GeoTagged  \n",
       "0                 Philippines       True  \n",
       "1                         NaN       True  \n",
       "2                         NaN      False  \n",
       "3  Prince Albert Saskatchewan      False  \n",
       "4             Fort Morgan, CO      False  "
      ]
     },
     "execution_count": 12,
     "metadata": {},
     "output_type": "execute_result"
    }
   ],
   "source": [
    "df.head()"
   ]
  },
  {
   "cell_type": "code",
   "execution_count": 18,
   "metadata": {},
   "outputs": [
    {
     "data": {
      "text/plain": [
       "Nashville, TN                     8\n",
       "Binangonan, Calabarzon            6\n",
       "Hutchinson, MN                    3\n",
       "Pueblo, CO                        2\n",
       "Philippines                       2\n",
       "                                 ..\n",
       "Dragon Crest                      1\n",
       "Texas, USA                        1\n",
       "Minnesota, USA                    1\n",
       "สนง.กสทช. 87พหลโยธิน8 กทม10400    1\n",
       "Jamaica                           1\n",
       "Name: Location, Length: 62, dtype: int64"
      ]
     },
     "execution_count": 18,
     "metadata": {},
     "output_type": "execute_result"
    }
   ],
   "source": [
    "df['Location'].value_counts()"
   ]
  },
  {
   "cell_type": "code",
   "execution_count": 20,
   "metadata": {},
   "outputs": [
    {
     "data": {
      "text/plain": [
       "0     True\n",
       "1     True\n",
       "2    False\n",
       "3    False\n",
       "4    False\n",
       "Name: GeoTagged, dtype: bool"
      ]
     },
     "execution_count": 20,
     "metadata": {},
     "output_type": "execute_result"
    }
   ],
   "source": [
    "df['GeoTagged'].head()"
   ]
  },
  {
   "cell_type": "code",
   "execution_count": 22,
   "metadata": {},
   "outputs": [
    {
     "ename": "TypeError",
     "evalue": "cannot unpack non-iterable float object",
     "output_type": "error",
     "traceback": [
      "\u001b[0;31m---------------------------------------------------------------------------\u001b[0m",
      "\u001b[0;31mTypeError\u001b[0m                                 Traceback (most recent call last)",
      "\u001b[0;32m<ipython-input-22-b769396fc1b6>\u001b[0m in \u001b[0;36m<module>\u001b[0;34m\u001b[0m\n\u001b[0;32m----> 1\u001b[0;31m \u001b[0mlong\u001b[0m\u001b[0;34m,\u001b[0m \u001b[0mlat\u001b[0m \u001b[0;34m=\u001b[0m \u001b[0mdf\u001b[0m\u001b[0;34m[\u001b[0m\u001b[0;34m'Location'\u001b[0m\u001b[0;34m]\u001b[0m\u001b[0;34m[\u001b[0m\u001b[0;36m1\u001b[0m\u001b[0;34m]\u001b[0m\u001b[0;34m\u001b[0m\u001b[0;34m\u001b[0m\u001b[0m\n\u001b[0m",
      "\u001b[0;31mTypeError\u001b[0m: cannot unpack non-iterable float object"
     ]
    }
   ],
   "source": [
    "long, lat = df['Location'][1]"
   ]
  },
  {
   "cell_type": "code",
   "execution_count": null,
   "metadata": {},
   "outputs": [],
   "source": []
  }
 ],
 "metadata": {
  "kernelspec": {
   "display_name": "Python 3",
   "language": "python",
   "name": "python3"
  },
  "language_info": {
   "codemirror_mode": {
    "name": "ipython",
    "version": 3
   },
   "file_extension": ".py",
   "mimetype": "text/x-python",
   "name": "python",
   "nbconvert_exporter": "python",
   "pygments_lexer": "ipython3",
   "version": "3.7.6"
  }
 },
 "nbformat": 4,
 "nbformat_minor": 4
}
