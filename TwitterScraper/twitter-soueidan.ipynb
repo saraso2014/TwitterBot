{
 "cells": [
  {
   "cell_type": "markdown",
   "metadata": {},
   "source": [
    "**Library Imports**"
   ]
  },
  {
   "cell_type": "code",
   "execution_count": 2,
   "metadata": {},
   "outputs": [],
   "source": [
    "import pandas as pd\n",
    "import time\n",
    "import tweepy"
   ]
  },
  {
   "cell_type": "markdown",
   "metadata": {},
   "source": [
    "**Credentials: Consumer and Access**"
   ]
  },
  {
   "cell_type": "code",
   "execution_count": 3,
   "metadata": {},
   "outputs": [],
   "source": [
    "consumer_key = \"m8rPuAqDoxlp21cqf42OaCVNh\"\n",
    "consumer_secret = \"xnXprDHDJXgflYHENr1IrESBxWlZO2nFbaCCKiNuMmZMGltZcK\"\n",
    "access_token = \"208399633-4hjnFJvf2NOh0naUbwY3pm6TPpFX0guyH7klZKOH\"\n",
    "access_token_secret = \"rQc560zkbo8CdmzUa6g75xD4XwTnsSOHTiNRzOgLMsVjs\""
   ]
  },
  {
   "cell_type": "markdown",
   "metadata": {},
   "source": [
    "**Create API Connection**"
   ]
  },
  {
   "cell_type": "code",
   "execution_count": 4,
   "metadata": {},
   "outputs": [],
   "source": [
    "auth = tweepy.OAuthHandler(consumer_key, consumer_secret)\n",
    "auth.set_access_token(access_token, access_token_secret)\n",
    "api = tweepy.API(auth,wait_on_rate_limit=True)"
   ]
  },
  {
   "cell_type": "markdown",
   "metadata": {},
   "source": [
    "**Search Function**"
   ]
  },
  {
   "cell_type": "code",
   "execution_count": 67,
   "metadata": {},
   "outputs": [],
   "source": [
    "query = '#pupper'\n",
    "#geo = '37.781157,-122.398720,50mi'\n",
    "tweets = []\n",
    "for tweet in api.search(q=query,count=50):\n",
    "    tweets.append((tweet.created_at,tweet.text,tweet.user.screen_name, tweet.user.location, tweet.place))"
   ]
  },
  {
   "cell_type": "code",
   "execution_count": 68,
   "metadata": {},
   "outputs": [],
   "source": [
    "df_tweets = pd.DataFrame(tweets, columns=['Datetime','Text','Username','Location','Place'])"
   ]
  },
  {
   "cell_type": "code",
   "execution_count": 85,
   "metadata": {},
   "outputs": [
    {
     "data": {
      "text/plain": [
       "[[[-1.4137315, 50.9429358],\n",
       "  [-1.334973, 50.9429358],\n",
       "  [-1.334973, 51.004389],\n",
       "  [-1.4137315, 51.004389]]]"
      ]
     },
     "execution_count": 85,
     "metadata": {},
     "output_type": "execute_result"
    }
   ],
   "source": [
    "df_tweets['Place'][16].bounding_box.coordinates"
   ]
  },
  {
   "cell_type": "code",
   "execution_count": 96,
   "metadata": {},
   "outputs": [],
   "source": [
    "geo_tweets = []\n",
    "query = 'pandemic'\n",
    "geo = '40.730610,-73.935242,15mi'\n",
    "\n",
    "for tweet in api.search(q=query,geocode=geo,count=1000000):\n",
    "    geo_tweets.append((tweet.created_at,tweet.text,tweet.user.screen_name,tweet.user.location,tweet.place))"
   ]
  },
  {
   "cell_type": "code",
   "execution_count": 97,
   "metadata": {},
   "outputs": [],
   "source": [
    "df_geo_tweets = pd.DataFrame(geo_tweets, columns=['Datetime','Text','Username','User Location','Tweet Location'])"
   ]
  },
  {
   "cell_type": "code",
   "execution_count": 100,
   "metadata": {},
   "outputs": [
    {
     "data": {
      "text/html": [
       "<div>\n",
       "<style scoped>\n",
       "    .dataframe tbody tr th:only-of-type {\n",
       "        vertical-align: middle;\n",
       "    }\n",
       "\n",
       "    .dataframe tbody tr th {\n",
       "        vertical-align: top;\n",
       "    }\n",
       "\n",
       "    .dataframe thead th {\n",
       "        text-align: right;\n",
       "    }\n",
       "</style>\n",
       "<table border=\"1\" class=\"dataframe\">\n",
       "  <thead>\n",
       "    <tr style=\"text-align: right;\">\n",
       "      <th></th>\n",
       "      <th>Datetime</th>\n",
       "      <th>Text</th>\n",
       "      <th>Username</th>\n",
       "      <th>User Location</th>\n",
       "      <th>Tweet Location</th>\n",
       "    </tr>\n",
       "  </thead>\n",
       "  <tbody>\n",
       "    <tr>\n",
       "      <th>0</th>\n",
       "      <td>2020-05-09 22:53:46</td>\n",
       "      <td>RT @maddow: “The government did not take Bowen...</td>\n",
       "      <td>LolaOnThePath</td>\n",
       "      <td></td>\n",
       "      <td>None</td>\n",
       "    </tr>\n",
       "    <tr>\n",
       "      <th>1</th>\n",
       "      <td>2020-05-09 22:53:46</td>\n",
       "      <td>RT @mmpadellan: President Obama SLAMS the trum...</td>\n",
       "      <td>guesswho158</td>\n",
       "      <td>nj</td>\n",
       "      <td>None</td>\n",
       "    </tr>\n",
       "    <tr>\n",
       "      <th>2</th>\n",
       "      <td>2020-05-09 22:53:43</td>\n",
       "      <td>An American company-which Trump boasts about-w...</td>\n",
       "      <td>rongartner1</td>\n",
       "      <td>New York, NY</td>\n",
       "      <td>None</td>\n",
       "    </tr>\n",
       "    <tr>\n",
       "      <th>3</th>\n",
       "      <td>2020-05-09 22:53:41</td>\n",
       "      <td>RT @kylegriffin1: \"It appears to be a moment w...</td>\n",
       "      <td>PhotoClique1</td>\n",
       "      <td></td>\n",
       "      <td>None</td>\n",
       "    </tr>\n",
       "    <tr>\n",
       "      <th>4</th>\n",
       "      <td>2020-05-09 22:53:39</td>\n",
       "      <td>RT @kylegriffin1: \"It appears to be a moment w...</td>\n",
       "      <td>occtoys</td>\n",
       "      <td>NC</td>\n",
       "      <td>None</td>\n",
       "    </tr>\n",
       "    <tr>\n",
       "      <th>...</th>\n",
       "      <td>...</td>\n",
       "      <td>...</td>\n",
       "      <td>...</td>\n",
       "      <td>...</td>\n",
       "      <td>...</td>\n",
       "    </tr>\n",
       "    <tr>\n",
       "      <th>95</th>\n",
       "      <td>2020-05-09 22:51:38</td>\n",
       "      <td>RT @maddow: “The government did not take Bowen...</td>\n",
       "      <td>patric9382</td>\n",
       "      <td></td>\n",
       "      <td>None</td>\n",
       "    </tr>\n",
       "    <tr>\n",
       "      <th>96</th>\n",
       "      <td>2020-05-09 22:51:33</td>\n",
       "      <td>RT @kylegriffin1: \"It appears to be a moment w...</td>\n",
       "      <td>endmoronism</td>\n",
       "      <td>United States</td>\n",
       "      <td>None</td>\n",
       "    </tr>\n",
       "    <tr>\n",
       "      <th>97</th>\n",
       "      <td>2020-05-09 22:51:33</td>\n",
       "      <td>RT @BetteMidler: \"A country that turned out ei...</td>\n",
       "      <td>Acoad11112</td>\n",
       "      <td>Missouri, USA</td>\n",
       "      <td>None</td>\n",
       "    </tr>\n",
       "    <tr>\n",
       "      <th>98</th>\n",
       "      <td>2020-05-09 22:51:31</td>\n",
       "      <td>RT @kylegriffin1: \"It appears to be a moment w...</td>\n",
       "      <td>dcuffie</td>\n",
       "      <td></td>\n",
       "      <td>None</td>\n",
       "    </tr>\n",
       "    <tr>\n",
       "      <th>99</th>\n",
       "      <td>2020-05-09 22:51:28</td>\n",
       "      <td>RT @kylegriffin1: \"It appears to be a moment w...</td>\n",
       "      <td>Jipcgirl1</td>\n",
       "      <td>Florida, USA</td>\n",
       "      <td>None</td>\n",
       "    </tr>\n",
       "  </tbody>\n",
       "</table>\n",
       "<p>100 rows × 5 columns</p>\n",
       "</div>"
      ],
      "text/plain": [
       "              Datetime                                               Text  \\\n",
       "0  2020-05-09 22:53:46  RT @maddow: “The government did not take Bowen...   \n",
       "1  2020-05-09 22:53:46  RT @mmpadellan: President Obama SLAMS the trum...   \n",
       "2  2020-05-09 22:53:43  An American company-which Trump boasts about-w...   \n",
       "3  2020-05-09 22:53:41  RT @kylegriffin1: \"It appears to be a moment w...   \n",
       "4  2020-05-09 22:53:39  RT @kylegriffin1: \"It appears to be a moment w...   \n",
       "..                 ...                                                ...   \n",
       "95 2020-05-09 22:51:38  RT @maddow: “The government did not take Bowen...   \n",
       "96 2020-05-09 22:51:33  RT @kylegriffin1: \"It appears to be a moment w...   \n",
       "97 2020-05-09 22:51:33  RT @BetteMidler: \"A country that turned out ei...   \n",
       "98 2020-05-09 22:51:31  RT @kylegriffin1: \"It appears to be a moment w...   \n",
       "99 2020-05-09 22:51:28  RT @kylegriffin1: \"It appears to be a moment w...   \n",
       "\n",
       "         Username  User Location Tweet Location  \n",
       "0   LolaOnThePath                          None  \n",
       "1     guesswho158             nj           None  \n",
       "2     rongartner1   New York, NY           None  \n",
       "3    PhotoClique1                          None  \n",
       "4         occtoys             NC           None  \n",
       "..            ...            ...            ...  \n",
       "95     patric9382                          None  \n",
       "96    endmoronism  United States           None  \n",
       "97     Acoad11112  Missouri, USA           None  \n",
       "98        dcuffie                          None  \n",
       "99      Jipcgirl1   Florida, USA           None  \n",
       "\n",
       "[100 rows x 5 columns]"
      ]
     },
     "execution_count": 100,
     "metadata": {},
     "output_type": "execute_result"
    }
   ],
   "source": [
    "df_geo_tweets"
   ]
  },
  {
   "cell_type": "markdown",
   "metadata": {},
   "source": [
    "**Notes**\n",
    "\n",
    "\n",
    "- 450 tweets / 15 mins using app authorization\n",
    "\n",
    "- filter search by location\n",
    "\n",
    "- get only tweets with location properties\n",
    " \n",
    "- filter tweets by time range"
   ]
  },
  {
   "cell_type": "code",
   "execution_count": null,
   "metadata": {},
   "outputs": [],
   "source": []
  }
 ],
 "metadata": {
  "kernelspec": {
   "display_name": "Python 3",
   "language": "python",
   "name": "python3"
  },
  "language_info": {
   "codemirror_mode": {
    "name": "ipython",
    "version": 3
   },
   "file_extension": ".py",
   "mimetype": "text/x-python",
   "name": "python",
   "nbconvert_exporter": "python",
   "pygments_lexer": "ipython3",
   "version": "3.7.6"
  }
 },
 "nbformat": 4,
 "nbformat_minor": 4
}
