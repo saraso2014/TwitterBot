{
 "cells": [
  {
   "cell_type": "markdown",
   "metadata": {},
   "source": [
    "**Library Imports**"
   ]
  },
  {
   "cell_type": "code",
   "execution_count": 2,
   "metadata": {},
   "outputs": [],
   "source": [
    "import pandas as pd\n",
    "import time\n",
    "import tweepy"
   ]
  },
  {
   "cell_type": "markdown",
   "metadata": {},
   "source": [
    "**Credentials: Consumer and Access**"
   ]
  },
  {
   "cell_type": "code",
   "execution_count": 3,
   "metadata": {},
   "outputs": [],
   "source": [
    "consumer_key = \"m8rPuAqDoxlp21cqf42OaCVNh\"\n",
    "consumer_secret = \"xnXprDHDJXgflYHENr1IrESBxWlZO2nFbaCCKiNuMmZMGltZcK\"\n",
    "access_token = \"208399633-4hjnFJvf2NOh0naUbwY3pm6TPpFX0guyH7klZKOH\"\n",
    "access_token_secret = \"rQc560zkbo8CdmzUa6g75xD4XwTnsSOHTiNRzOgLMsVjs\""
   ]
  },
  {
   "cell_type": "markdown",
   "metadata": {},
   "source": [
    "**Create API Connection**"
   ]
  },
  {
   "cell_type": "code",
   "execution_count": 4,
   "metadata": {},
   "outputs": [],
   "source": [
    "auth = tweepy.OAuthHandler(consumer_key, consumer_secret)\n",
    "auth.set_access_token(access_token, access_token_secret)\n",
    "api = tweepy.API(auth,wait_on_rate_limit=True)"
   ]
  },
  {
   "cell_type": "markdown",
   "metadata": {},
   "source": [
    "**Search Function**"
   ]
  },
  {
   "cell_type": "code",
   "execution_count": 30,
   "metadata": {},
   "outputs": [],
   "source": [
    "geo_tweets = []\n",
    "hashtag_filter  = None\n",
    "query_filter = '#poweroutage'\n",
    "#geo_filter = '40.730610,-73.935242,15mi'\n",
    "time_filter = None\n",
    "\n",
    "for tweet in api.search(q=query_filter, count=500):\n",
    "    geo_tweets.append((tweet.created_at,tweet.text,tweet.user.screen_name,tweet.user.location,tweet.place))"
   ]
  },
  {
   "cell_type": "code",
   "execution_count": 31,
   "metadata": {},
   "outputs": [],
   "source": [
    "df_geo_tweets = pd.DataFrame(geo_tweets, columns=['Datetime','Text','Username','User Location','Location'])"
   ]
  },
  {
   "cell_type": "code",
   "execution_count": 32,
   "metadata": {},
   "outputs": [
    {
     "data": {
      "text/html": [
       "<div>\n",
       "<style scoped>\n",
       "    .dataframe tbody tr th:only-of-type {\n",
       "        vertical-align: middle;\n",
       "    }\n",
       "\n",
       "    .dataframe tbody tr th {\n",
       "        vertical-align: top;\n",
       "    }\n",
       "\n",
       "    .dataframe thead th {\n",
       "        text-align: right;\n",
       "    }\n",
       "</style>\n",
       "<table border=\"1\" class=\"dataframe\">\n",
       "  <thead>\n",
       "    <tr style=\"text-align: right;\">\n",
       "      <th></th>\n",
       "      <th>Datetime</th>\n",
       "      <th>Text</th>\n",
       "      <th>Username</th>\n",
       "      <th>User Location</th>\n",
       "      <th>Location</th>\n",
       "    </tr>\n",
       "  </thead>\n",
       "  <tbody>\n",
       "    <tr>\n",
       "      <th>0</th>\n",
       "      <td>2020-05-09 22:27:17</td>\n",
       "      <td>RT @kiddoGAMMZ: KenyaPower #PowerOutage The Wo...</td>\n",
       "      <td>coldtusker</td>\n",
       "      <td>Ask Waldo</td>\n",
       "      <td>None</td>\n",
       "    </tr>\n",
       "    <tr>\n",
       "      <th>1</th>\n",
       "      <td>2020-05-09 20:54:28</td>\n",
       "      <td>ตี 3.50 ไฟฟ้าดับ ทั้งที่ฝนไม่ตก #PowerOutage @...</td>\n",
       "      <td>SoraidaSalwala</td>\n",
       "      <td>Lampang, Thailand</td>\n",
       "      <td>None</td>\n",
       "    </tr>\n",
       "    <tr>\n",
       "      <th>2</th>\n",
       "      <td>2020-05-09 19:29:51</td>\n",
       "      <td>Power outage while\\nmaking cake? No problem. T...</td>\n",
       "      <td>HeatherSyd</td>\n",
       "      <td>New Hampshire, USA</td>\n",
       "      <td>None</td>\n",
       "    </tr>\n",
       "    <tr>\n",
       "      <th>3</th>\n",
       "      <td>2020-05-09 19:00:01</td>\n",
       "      <td>KenyaPower #PowerOutage The World Bank cash th...</td>\n",
       "      <td>kiddoGAMMZ</td>\n",
       "      <td>Kenya, East Africa.</td>\n",
       "      <td>None</td>\n",
       "    </tr>\n",
       "    <tr>\n",
       "      <th>4</th>\n",
       "      <td>2020-05-09 18:54:03</td>\n",
       "      <td>Either @UmemeLtd is failing their own course o...</td>\n",
       "      <td>wokaje</td>\n",
       "      <td>Soroti, Uganda.</td>\n",
       "      <td>Place(_api=&lt;tweepy.api.API object at 0x1043c14...</td>\n",
       "    </tr>\n",
       "    <tr>\n",
       "      <th>...</th>\n",
       "      <td>...</td>\n",
       "      <td>...</td>\n",
       "      <td>...</td>\n",
       "      <td>...</td>\n",
       "      <td>...</td>\n",
       "    </tr>\n",
       "    <tr>\n",
       "      <th>95</th>\n",
       "      <td>2020-05-08 00:44:51</td>\n",
       "      <td>Philips Hue hættir mjög fljótt að vera töff la...</td>\n",
       "      <td>helgim</td>\n",
       "      <td></td>\n",
       "      <td>None</td>\n",
       "    </tr>\n",
       "    <tr>\n",
       "      <th>96</th>\n",
       "      <td>2020-05-07 23:57:01</td>\n",
       "      <td>Well there's nothing quite like sitting on you...</td>\n",
       "      <td>PickledGingerr</td>\n",
       "      <td></td>\n",
       "      <td>None</td>\n",
       "    </tr>\n",
       "    <tr>\n",
       "      <th>97</th>\n",
       "      <td>2020-05-07 23:43:25</td>\n",
       "      <td>RT @redcrosscanada: ⚠️Can you live without pow...</td>\n",
       "      <td>4strongkids</td>\n",
       "      <td>Prince Albert Saskatchewan</td>\n",
       "      <td>None</td>\n",
       "    </tr>\n",
       "    <tr>\n",
       "      <th>98</th>\n",
       "      <td>2020-05-07 23:41:36</td>\n",
       "      <td>#poweroutage #boo</td>\n",
       "      <td>cstanleycoleman</td>\n",
       "      <td>Fort Morgan, CO</td>\n",
       "      <td>None</td>\n",
       "    </tr>\n",
       "    <tr>\n",
       "      <th>99</th>\n",
       "      <td>2020-05-07 22:13:29</td>\n",
       "      <td>RT @rollinthegeek: In Issue 4- our two regular...</td>\n",
       "      <td>UO_Keith</td>\n",
       "      <td>Dragon Crest</td>\n",
       "      <td>None</td>\n",
       "    </tr>\n",
       "  </tbody>\n",
       "</table>\n",
       "<p>100 rows × 5 columns</p>\n",
       "</div>"
      ],
      "text/plain": [
       "              Datetime                                               Text  \\\n",
       "0  2020-05-09 22:27:17  RT @kiddoGAMMZ: KenyaPower #PowerOutage The Wo...   \n",
       "1  2020-05-09 20:54:28  ตี 3.50 ไฟฟ้าดับ ทั้งที่ฝนไม่ตก #PowerOutage @...   \n",
       "2  2020-05-09 19:29:51  Power outage while\\nmaking cake? No problem. T...   \n",
       "3  2020-05-09 19:00:01  KenyaPower #PowerOutage The World Bank cash th...   \n",
       "4  2020-05-09 18:54:03  Either @UmemeLtd is failing their own course o...   \n",
       "..                 ...                                                ...   \n",
       "95 2020-05-08 00:44:51  Philips Hue hættir mjög fljótt að vera töff la...   \n",
       "96 2020-05-07 23:57:01  Well there's nothing quite like sitting on you...   \n",
       "97 2020-05-07 23:43:25  RT @redcrosscanada: ⚠️Can you live without pow...   \n",
       "98 2020-05-07 23:41:36                                  #poweroutage #boo   \n",
       "99 2020-05-07 22:13:29  RT @rollinthegeek: In Issue 4- our two regular...   \n",
       "\n",
       "           Username               User Location  \\\n",
       "0        coldtusker                   Ask Waldo   \n",
       "1    SoraidaSalwala           Lampang, Thailand   \n",
       "2        HeatherSyd          New Hampshire, USA   \n",
       "3        kiddoGAMMZ         Kenya, East Africa.   \n",
       "4            wokaje             Soroti, Uganda.   \n",
       "..              ...                         ...   \n",
       "95           helgim                               \n",
       "96   PickledGingerr                               \n",
       "97      4strongkids  Prince Albert Saskatchewan   \n",
       "98  cstanleycoleman             Fort Morgan, CO   \n",
       "99         UO_Keith                Dragon Crest   \n",
       "\n",
       "                                             Location  \n",
       "0                                                None  \n",
       "1                                                None  \n",
       "2                                                None  \n",
       "3                                                None  \n",
       "4   Place(_api=<tweepy.api.API object at 0x1043c14...  \n",
       "..                                                ...  \n",
       "95                                               None  \n",
       "96                                               None  \n",
       "97                                               None  \n",
       "98                                               None  \n",
       "99                                               None  \n",
       "\n",
       "[100 rows x 5 columns]"
      ]
     },
     "execution_count": 32,
     "metadata": {},
     "output_type": "execute_result"
    }
   ],
   "source": [
    "df_geo_tweets"
   ]
  },
  {
   "cell_type": "markdown",
   "metadata": {},
   "source": [
    "**Notes**\n",
    "\n",
    "\n",
    "- 450 tweets / 15 mins using app authorization\n",
    "- build query list to search multiple terms\n",
    "- build datetime filter for tweets between specific range\n",
    "- build location filter for tweets in specific locations\n",
    "- filter search by location\n",
    "- get only tweets with location properties\n",
    "- filter tweets by time range"
   ]
  }
 ],
 "metadata": {
  "kernelspec": {
   "display_name": "Python 3",
   "language": "python",
   "name": "python3"
  },
  "language_info": {
   "codemirror_mode": {
    "name": "ipython",
    "version": 3
   },
   "file_extension": ".py",
   "mimetype": "text/x-python",
   "name": "python",
   "nbconvert_exporter": "python",
   "pygments_lexer": "ipython3",
   "version": "3.7.6"
  }
 },
 "nbformat": 4,
 "nbformat_minor": 4
}
