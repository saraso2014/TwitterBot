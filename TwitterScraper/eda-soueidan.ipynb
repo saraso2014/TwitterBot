{
 "cells": [
  {
   "cell_type": "code",
   "execution_count": 1,
   "metadata": {},
   "outputs": [],
   "source": [
    "import pandas as pd"
   ]
  },
  {
   "cell_type": "code",
   "execution_count": 2,
   "metadata": {},
   "outputs": [],
   "source": [
    "df_tweets = pd.read_csv('power outage-5k-tweets.csv')"
   ]
  },
  {
   "cell_type": "code",
   "execution_count": 3,
   "metadata": {},
   "outputs": [
    {
     "data": {
      "text/html": [
       "<div>\n",
       "<style scoped>\n",
       "    .dataframe tbody tr th:only-of-type {\n",
       "        vertical-align: middle;\n",
       "    }\n",
       "\n",
       "    .dataframe tbody tr th {\n",
       "        vertical-align: top;\n",
       "    }\n",
       "\n",
       "    .dataframe thead th {\n",
       "        text-align: right;\n",
       "    }\n",
       "</style>\n",
       "<table border=\"1\" class=\"dataframe\">\n",
       "  <thead>\n",
       "    <tr style=\"text-align: right;\">\n",
       "      <th></th>\n",
       "      <th>Unnamed: 0</th>\n",
       "      <th>Id</th>\n",
       "      <th>Username</th>\n",
       "      <th>Text</th>\n",
       "      <th>Date</th>\n",
       "      <th>Hashtags</th>\n",
       "      <th>Location</th>\n",
       "    </tr>\n",
       "  </thead>\n",
       "  <tbody>\n",
       "    <tr>\n",
       "      <th>0</th>\n",
       "      <td>0</td>\n",
       "      <td>1185704921078947845</td>\n",
       "      <td>BrookeLuzziNP</td>\n",
       "      <td>I guess the football gods are sparing me the h...</td>\n",
       "      <td>2019-10-19 23:50:57+00:00</td>\n",
       "      <td>#UKvsUGA #GoDawgs #BeatTheWildcats #poweroutage</td>\n",
       "      <td>NaN</td>\n",
       "    </tr>\n",
       "    <tr>\n",
       "      <th>1</th>\n",
       "      <td>1</td>\n",
       "      <td>1185704446615003136</td>\n",
       "      <td>chrispian</td>\n",
       "      <td>Ok, enough power outage. Mobile hotspot engaged.</td>\n",
       "      <td>2019-10-19 23:49:04+00:00</td>\n",
       "      <td>NaN</td>\n",
       "      <td>NaN</td>\n",
       "    </tr>\n",
       "    <tr>\n",
       "      <th>2</th>\n",
       "      <td>2</td>\n",
       "      <td>1185703861186682880</td>\n",
       "      <td>wsbradio</td>\n",
       "      <td>#BREAKING Nestor downs power lines and trees i...</td>\n",
       "      <td>2019-10-19 23:46:44+00:00</td>\n",
       "      <td>#BREAKING</td>\n",
       "      <td>NaN</td>\n",
       "    </tr>\n",
       "    <tr>\n",
       "      <th>3</th>\n",
       "      <td>3</td>\n",
       "      <td>1185703678126243840</td>\n",
       "      <td>stephanierauger</td>\n",
       "      <td>Your team is TOP NOTCH! Although I’m still wai...</td>\n",
       "      <td>2019-10-19 23:46:00+00:00</td>\n",
       "      <td>NaN</td>\n",
       "      <td>NaN</td>\n",
       "    </tr>\n",
       "    <tr>\n",
       "      <th>4</th>\n",
       "      <td>4</td>\n",
       "      <td>1185703462241210368</td>\n",
       "      <td>fickett_donald</td>\n",
       "      <td>How many electric cars were idled during the p...</td>\n",
       "      <td>2019-10-19 23:45:09+00:00</td>\n",
       "      <td>NaN</td>\n",
       "      <td>NaN</td>\n",
       "    </tr>\n",
       "  </tbody>\n",
       "</table>\n",
       "</div>"
      ],
      "text/plain": [
       "   Unnamed: 0                   Id         Username  \\\n",
       "0           0  1185704921078947845    BrookeLuzziNP   \n",
       "1           1  1185704446615003136        chrispian   \n",
       "2           2  1185703861186682880         wsbradio   \n",
       "3           3  1185703678126243840  stephanierauger   \n",
       "4           4  1185703462241210368   fickett_donald   \n",
       "\n",
       "                                                Text  \\\n",
       "0  I guess the football gods are sparing me the h...   \n",
       "1   Ok, enough power outage. Mobile hotspot engaged.   \n",
       "2  #BREAKING Nestor downs power lines and trees i...   \n",
       "3  Your team is TOP NOTCH! Although I’m still wai...   \n",
       "4  How many electric cars were idled during the p...   \n",
       "\n",
       "                        Date                                         Hashtags  \\\n",
       "0  2019-10-19 23:50:57+00:00  #UKvsUGA #GoDawgs #BeatTheWildcats #poweroutage   \n",
       "1  2019-10-19 23:49:04+00:00                                              NaN   \n",
       "2  2019-10-19 23:46:44+00:00                                        #BREAKING   \n",
       "3  2019-10-19 23:46:00+00:00                                              NaN   \n",
       "4  2019-10-19 23:45:09+00:00                                              NaN   \n",
       "\n",
       "   Location  \n",
       "0       NaN  \n",
       "1       NaN  \n",
       "2       NaN  \n",
       "3       NaN  \n",
       "4       NaN  "
      ]
     },
     "execution_count": 3,
     "metadata": {},
     "output_type": "execute_result"
    }
   ],
   "source": [
    "df_tweets.head()"
   ]
  },
  {
   "cell_type": "code",
   "execution_count": 5,
   "metadata": {},
   "outputs": [
    {
     "data": {
      "text/plain": [
       "0      NaN\n",
       "1      NaN\n",
       "2      NaN\n",
       "3      NaN\n",
       "4      NaN\n",
       "        ..\n",
       "4995   NaN\n",
       "4996   NaN\n",
       "4997   NaN\n",
       "4998   NaN\n",
       "4999   NaN\n",
       "Name: Location, Length: 5000, dtype: float64"
      ]
     },
     "execution_count": 5,
     "metadata": {},
     "output_type": "execute_result"
    }
   ],
   "source": [
    "df_tweets['Location']"
   ]
  },
  {
   "cell_type": "code",
   "execution_count": null,
   "metadata": {},
   "outputs": [],
   "source": []
  }
 ],
 "metadata": {
  "kernelspec": {
   "display_name": "Python 3",
   "language": "python",
   "name": "python3"
  },
  "language_info": {
   "codemirror_mode": {
    "name": "ipython",
    "version": 3
   },
   "file_extension": ".py",
   "mimetype": "text/x-python",
   "name": "python",
   "nbconvert_exporter": "python",
   "pygments_lexer": "ipython3",
   "version": "3.7.6"
  }
 },
 "nbformat": 4,
 "nbformat_minor": 4
}
