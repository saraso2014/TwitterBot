{
 "cells": [
  {
   "cell_type": "markdown",
   "metadata": {},
   "source": [
    "**Preface**\n",
    "\n",
    "Tutorial pulled from https://medium.com/@leowgriffin/scraping-tweets-with-tweepy-python-59413046e788."
   ]
  },
  {
   "cell_type": "markdown",
   "metadata": {},
   "source": [
    "**Library Imports**"
   ]
  },
  {
   "cell_type": "code",
   "execution_count": 7,
   "metadata": {},
   "outputs": [],
   "source": [
    "from tweepy import OAuthHandler\n",
    "from tweepy.streaming import StreamListener\n",
    "import tweepy\n",
    "import json\n",
    "import pandas as pd\n",
    "import csv\n",
    "import re\n",
    "from textblob import TextBlob\n",
    "import string\n",
    "import preprocessor as p\n",
    "import os\n",
    "import time"
   ]
  },
  {
   "cell_type": "markdown",
   "metadata": {},
   "source": [
    "**Credentials**"
   ]
  },
  {
   "cell_type": "code",
   "execution_count": 13,
   "metadata": {},
   "outputs": [],
   "source": [
    "consumer_key = \"m8rPuAqDoxlp21cqf42OaCVNh\"\n",
    "consumer_secret = \"xnXprDHDJXgflYHENr1IrESBxWlZO2nFbaCCKiNuMmZMGltZcK\"\n",
    "access_key = \"208399633-4hjnFJvf2NOh0naUbwY3pm6TPpFX0guyH7klZKOH\"\n",
    "access_secret = \"rQc560zkbo8CdmzUa6g75xD4XwTnsSOHTiNRzOgLMsVjs\""
   ]
  },
  {
   "cell_type": "markdown",
   "metadata": {},
   "source": [
    "**Authorization**"
   ]
  },
  {
   "cell_type": "code",
   "execution_count": 14,
   "metadata": {},
   "outputs": [],
   "source": [
    "auth = OAuthHandler(consumer_key, consumer_secret)\n",
    "auth.set_access_token(access_key, access_secret)\n",
    "api = tweepy.API(auth)"
   ]
  },
  {
   "cell_type": "code",
   "execution_count": 17,
   "metadata": {},
   "outputs": [],
   "source": [
    "def scrape_tweets(query, date_since, num_tweets, num_loops):\n",
    "    # STEP 1: Define tweet dataframe\n",
    "    df_tweets = pd.DataFrame(columns = ['username', 'acctdesc', 'location', 'following',\n",
    "                                        'followers', 'totaltweets', 'usercreatedts', 'tweetcreatedts',\n",
    "                                        'retweetcount', 'text', 'hashtags'])\n",
    "    # STEP 2: Define start time\n",
    "    program_start = time.time()\n",
    "    \n",
    "    # STEP 3: Start loop\n",
    "    for i in range(0, num_loops):\n",
    "        loop_start = time.time()\n",
    "        tweets = tweepy.Cursor(api.search, q=query, since=date_since, tweet_mode=\"extended\").items(num_tweets)\n",
    "        tweet_list = [tweet for tweet in tweets]\n",
    "        num_tweets = 0\n",
    "        \n",
    "        # STEP 4: Pull tweet values\n",
    "        for tweet in tweet_list:\n",
    "            user_name = tweet.user.screen_name\n",
    "            user_description = tweet.user.description\n",
    "            user_location = tweet.user.location\n",
    "            tweet_text = tweet.text\n",
    "            tweet_date = tweet.created_at\n",
    "            hashtags = tweet.entities['hashtags']\n",
    "            \n",
    "            nth_tweet = [user_name, user_description,\n",
    "                         user_location, tweet_text,\n",
    "                         tweet_date, tweet_location,\n",
    "                         hashtags]\n",
    "            \n",
    "            df_tweets.loc[len(df_tweets)] = nth_tweet\n",
    "            \n",
    "            num_tweets += 1\n",
    "        \n",
    "        # StEP 5: \n",
    "        end_run = time.time()\n",
    "        duration_run = round((end_run-start_run)/60, 2)\n",
    "        \n",
    "        print('no. of tweets scraped for run {} is {}'.format(i + 1, num_tweets))\n",
    "        print('time take for {} run to complete is {} mins'.format(i + 1, duration_run))\n",
    "        \n",
    "        time.sleep(920) #15 minute sleep time\n",
    "        \n",
    "    \n",
    "    \n",
    "    "
   ]
  },
  {
   "cell_type": "code",
   "execution_count": null,
   "metadata": {},
   "outputs": [],
   "source": [
    "scrape_tweets()"
   ]
  },
  {
   "cell_type": "code",
   "execution_count": 16,
   "metadata": {
    "jupyter": {
     "source_hidden": true
    }
   },
   "outputs": [],
   "source": [
    "    for i in range(0, numRuns):\n",
    "        # We will time how long it takes to scrape tweets for each run:\n",
    "        start_run = time.time()\n",
    "        \n",
    "        # Collect tweets using the Cursor object\n",
    "        # .Cursor() returns an object that you can iterate or loop over to access the data collected.\n",
    "        # Each item in the iterator has various attributes that you can access to get information about each tweet\n",
    "        tweets = tweepy.Cursor(api.search, q=search_words, lang=\"en\", since=date_since, tweet_mode='extended').items(numTweets)\n",
    "        # Store these tweets into a python list\n",
    "        tweet_list = [tweet for tweet in tweets]\n",
    "        noTweets = 0\n",
    " "
   ]
  },
  {
   "cell_type": "code",
   "execution_count": 16,
   "metadata": {
    "jupyter": {
     "source_hidden": true
    }
   },
   "outputs": [],
   "source": [
    "   for tweet in tweet_list:\n",
    "    # Pull the values\n",
    "            user_name = tweet.user.screen_name\n",
    "            user_description = tweet.user.description\n",
    "            user_location = tweet.user.location\n",
    "            tweet_date = tweet.created_at\n",
    "            tweet_location = tweet.place\n",
    "            hashtags = tweet.entities['hashtags']\n",
    "        try:\n",
    "                text = tweet.retweeted_status.full_text\n",
    "        except AttributeError:  # Not a Retweet\n",
    "                text = tweet.full_text\n",
    "# Add the 11 variables to the empty list - ith_tweet:\n",
    "            ith_tweet = [username, acctdesc, location, following, followers, totaltweets,\n",
    "                         usercreatedts, tweetcreatedts, retweetcount, text, hashtags]\n",
    "# Append to dataframe - db_tweets\n",
    "            db_tweets.loc[len(db_tweets)] = ith_tweet\n",
    "# increase counter - noTweets  \n",
    "            noTweets += 1\n",
    "        "
   ]
  },
  {
   "cell_type": "code",
   "execution_count": 16,
   "metadata": {},
   "outputs": [
    {
     "ename": "IndentationError",
     "evalue": "unindent does not match any outer indentation level (<tokenize>, line 51)",
     "output_type": "error",
     "traceback": [
      "\u001b[0;36m  File \u001b[0;32m\"<tokenize>\"\u001b[0;36m, line \u001b[0;32m51\u001b[0m\n\u001b[0;31m    except AttributeError:  # Not a Retweet\u001b[0m\n\u001b[0m    ^\u001b[0m\n\u001b[0;31mIndentationError\u001b[0m\u001b[0;31m:\u001b[0m unindent does not match any outer indentation level\n"
     ]
    }
   ],
   "source": [
    "        # Run ended:\n",
    "        end_run = time.time()\n",
    "        duration_run = round((end_run-start_run)/60, 2)\n",
    "        \n",
    "        print('no. of tweets scraped for run {} is {}'.format(i + 1, noTweets))\n",
    "        print('time take for {} run to complete is {} mins'.format(i+1, duration_run))\n",
    "        \n",
    "        time.sleep(920) #15 minute sleep time\n",
    "# Once all runs have completed, save them to a single csv file:\n",
    "    from datetime import datetime\n",
    "    \n",
    "    # Obtain timestamp in a readable format\n",
    "    to_csv_timestamp = datetime.today().strftime('%Y%m%d_%H%M%S')\n",
    "# Define working path and filename\n",
    "    path = os.getcwd()\n",
    "    filename = path + '/data/' + to_csv_timestamp + '_sahkprotests_tweets.csv'\n",
    "# Store dataframe in csv with creation date timestamp\n",
    "    db_tweets.to_csv(filename, index = False)\n",
    "    \n",
    "    program_end = time.time()\n",
    "    print('Scraping has completed!')\n",
    "    print('Total time taken to scrap is {} minutes.'.format(round(program_end - program_start)/60, 2))"
   ]
  },
  {
   "cell_type": "code",
   "execution_count": null,
   "metadata": {},
   "outputs": [],
   "source": []
  }
 ],
 "metadata": {
  "kernelspec": {
   "display_name": "Python 3",
   "language": "python",
   "name": "python3"
  },
  "language_info": {
   "codemirror_mode": {
    "name": "ipython",
    "version": 3
   },
   "file_extension": ".py",
   "mimetype": "text/x-python",
   "name": "python",
   "nbconvert_exporter": "python",
   "pygments_lexer": "ipython3",
   "version": "3.7.6"
  }
 },
 "nbformat": 4,
 "nbformat_minor": 4
}
